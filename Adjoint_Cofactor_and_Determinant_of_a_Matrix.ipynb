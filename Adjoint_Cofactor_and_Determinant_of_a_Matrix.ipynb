{
  "nbformat": 4,
  "nbformat_minor": 0,
  "metadata": {
    "colab": {
      "provenance": [],
      "authorship_tag": "ABX9TyPQo+K4DBx4PwNw2IthXYmJ",
      "include_colab_link": true
    },
    "kernelspec": {
      "name": "python3",
      "display_name": "Python 3"
    },
    "language_info": {
      "name": "python"
    }
  },
  "cells": [
    {
      "cell_type": "markdown",
      "metadata": {
        "id": "view-in-github",
        "colab_type": "text"
      },
      "source": [
        "<a href=\"https://colab.research.google.com/github/charan-debug/101-APPLIED-LINEAR-ALGEBRA/blob/main/Adjoint_Cofactor_and_Determinant_of_a_Matrix.ipynb\" target=\"_parent\"><img src=\"https://colab.research.google.com/assets/colab-badge.svg\" alt=\"Open In Colab\"/></a>"
      ]
    },
    {
      "cell_type": "code",
      "source": [
        "# Function to input a square matrix from the user\n",
        "def input_matrix():\n",
        "    n = int(input(\"Enter the size of the square matrix (e.g., 2 for 2x2, 3 for 3x3): \"))\n",
        "    matrix = []\n",
        "\n",
        "    print(\"Enter the elements row by row:\")\n",
        "    for _ in range(n):\n",
        "        row = list(map(int, input().split()))\n",
        "        if len(row) != n:\n",
        "            print(\"Invalid input. Please enter exactly {} elements for each row.\".format(n))\n",
        "            return None\n",
        "        matrix.append(row)\n",
        "\n",
        "    return matrix\n",
        "\n",
        "# Calculate the determinant of a 2x2 matrix\n",
        "def determinant_2x2(matrix):\n",
        "    return matrix[0][0] * matrix[1][1] - matrix[0][1] * matrix[1][0]\n",
        "\n",
        "# Calculate the determinant of a matrix recursively\n",
        "def determinant_recursive(matrix):\n",
        "    size = len(matrix)\n",
        "\n",
        "    if size == 2:\n",
        "        return determinant_2x2(matrix)\n",
        "\n",
        "    det = 0\n",
        "    for i in range(size):\n",
        "        submatrix = [row[:i] + row[i+1:] for row in matrix[1:]]\n",
        "        det += matrix[0][i] * ((-1) ** i) * determinant_recursive(submatrix)\n",
        "\n",
        "    return det\n",
        "\n",
        "# Calculate the cofactor matrix C\n",
        "def cofactor_matrix(matrix):\n",
        "    size = len(matrix)\n",
        "    C = [[0] * size for _ in range(size)]\n",
        "\n",
        "    for i in range(size):\n",
        "        for j in range(size):\n",
        "            submatrix = [row[:j] + row[j+1:] for row in (matrix[:i] + matrix[i+1:])]\n",
        "            C[i][j] = ((-1) ** (i + j)) * determinant_recursive(submatrix)\n",
        "\n",
        "    return C\n",
        "\n",
        "# Calculate the adjoint matrix by transposing the cofactor matrix\n",
        "def adjoint_matrix(matrix):\n",
        "    C = cofactor_matrix(matrix)\n",
        "    size = len(matrix)\n",
        "    adj = [[C[j][i] for j in range(size)] for i in range(size)]\n",
        "    return adj\n",
        "\n",
        "# Get user input for the matrix\n",
        "matrix = input_matrix()\n",
        "if matrix:\n",
        "    # Calculate the determinant, cofactor matrix, and adjoint matrix\n",
        "    det_A = determinant_recursive(matrix)\n",
        "    C = cofactor_matrix(matrix)\n",
        "    adj_A = adjoint_matrix(matrix)\n",
        "\n",
        "    # Print the results\n",
        "    print(\"Determinant of the matrix:\", det_A)\n",
        "    print(\"Cofactor Matrix C:\")\n",
        "    for row in C:\n",
        "        print(row)\n",
        "    print(\"Adjoint Matrix adj(A):\")\n",
        "    for row in adj_A:\n",
        "        print(row)\n"
      ],
      "metadata": {
        "colab": {
          "base_uri": "https://localhost:8080/"
        },
        "id": "zUvvjyeYVDv6",
        "outputId": "b979e064-500f-41e4-b9ef-7872d1cc69ea"
      },
      "execution_count": 5,
      "outputs": [
        {
          "output_type": "stream",
          "name": "stdout",
          "text": [
            "Enter the size of the square matrix (e.g., 2 for 2x2, 3 for 3x3): 3\n",
            "Enter the elements row by row:\n",
            "1 0 3\n",
            "2 0 1\n",
            "1 0 5\n",
            "Determinant of the matrix: 0\n",
            "Cofactor Matrix C:\n",
            "[0, -9, 0]\n",
            "[0, 2, 0]\n",
            "[0, 5, 0]\n",
            "Adjoint Matrix adj(A):\n",
            "[0, 0, 0]\n",
            "[-9, 2, 5]\n",
            "[0, 0, 0]\n"
          ]
        }
      ]
    }
  ]
}