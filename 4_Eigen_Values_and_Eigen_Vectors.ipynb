{
  "nbformat": 4,
  "nbformat_minor": 0,
  "metadata": {
    "colab": {
      "provenance": [],
      "authorship_tag": "ABX9TyNviT9qyV7TKHyCSlVPz8We",
      "include_colab_link": true
    },
    "kernelspec": {
      "name": "python3",
      "display_name": "Python 3"
    },
    "language_info": {
      "name": "python"
    }
  },
  "cells": [
    {
      "cell_type": "markdown",
      "metadata": {
        "id": "view-in-github",
        "colab_type": "text"
      },
      "source": [
        "<a href=\"https://colab.research.google.com/github/charan-debug/101-APPLIED-LINEAR-ALGEBRA/blob/main/4_Eigen_Values_and_Eigen_Vectors.ipynb\" target=\"_parent\"><img src=\"https://colab.research.google.com/assets/colab-badge.svg\" alt=\"Open In Colab\"/></a>"
      ]
    },
    {
      "cell_type": "code",
      "execution_count": 12,
      "metadata": {
        "colab": {
          "base_uri": "https://localhost:8080/"
        },
        "id": "ahao0U26G7PR",
        "outputId": "3f0705c5-a1d1-4cf2-d935-8e956082b279"
      },
      "outputs": [
        {
          "output_type": "stream",
          "name": "stdout",
          "text": [
            "The Matrix is :\n",
            " [[6 5]\n",
            " [1 7]]\n",
            "Printing the Eigen values of the Matrix:\n",
            " [4.20871215 8.79128785]\n",
            " Printing Right eigenvectors of the Matrix:\n",
            " [[-0.94140906 -0.87315384]\n",
            " [ 0.33726692 -0.48744474]]\n"
          ]
        }
      ],
      "source": [
        "import numpy as np\n",
        "\n",
        "# create numpy 2d-array\n",
        "Matrix = np.array([[6, 5],[1, 7]])\n",
        "\n",
        "print(\"The Matrix is :\\n\",m)\n",
        "\n",
        "# finding eigenvalues and eigenvectors\n",
        "x, y = np.linalg.eig(Matrix)\n",
        "\n",
        "# printing eigen values\n",
        "print(\"Printing the Eigen values of the Matrix:\\n\",x)\n",
        "\n",
        "# printing eigen vectors\n",
        "print(\" Printing Right eigenvectors of the Matrix:\\n\",y)\n"
      ]
    },
    {
      "cell_type": "code",
      "source": [
        "import numpy as np\n",
        "\n",
        "def input_matrix():\n",
        "    n = int(input(\"Enter the size of the square matrix (e.g., 2 for 2x2, 3 for 3x3): \"))\n",
        "    matrix = []\n",
        "\n",
        "    print(\"Enter the elements row by row:\")\n",
        "    for _ in range(n):\n",
        "        row = list(map(float, input().split()))\n",
        "        if len(row) != n:\n",
        "            print(\"Invalid input. Please enter exactly {} elements for each row.\".format(n))\n",
        "            return None\n",
        "        matrix.append(row)\n",
        "\n",
        "    return np.array(matrix)\n",
        "\n",
        "# Call the function to input the matrix\n",
        "matrix = input_matrix()\n",
        "\n",
        "if matrix is not None:\n",
        "    print(\"The Matrix is :\\n\", matrix)\n",
        "\n",
        "    # Finding eigenvalues and eigenvectors\n",
        "    w, v = np.linalg.eig(matrix)\n",
        "\n",
        "    # Printing eigenvalues\n",
        "    print(\"Printing the Eigen values of the Matrix:\\n\", w)\n",
        "\n",
        "    # Printing eigenvectors\n",
        "    print(\"Printing Right eigenvectors of the Matrix:\\n\", v)\n"
      ],
      "metadata": {
        "colab": {
          "base_uri": "https://localhost:8080/"
        },
        "id": "RYtWv6hKKb7X",
        "outputId": "6ec05187-a35c-4024-b63e-a1a84bd0ecdf"
      },
      "execution_count": 13,
      "outputs": [
        {
          "output_type": "stream",
          "name": "stdout",
          "text": [
            "Enter the size of the square matrix (e.g., 2 for 2x2, 3 for 3x3): 3\n",
            "Enter the elements row by row:\n",
            "1 1 1\n",
            "1 1 1\n",
            "1 1 1\n",
            "The Matrix is :\n",
            " [[1. 1. 1.]\n",
            " [1. 1. 1.]\n",
            " [1. 1. 1.]]\n",
            "Printing the Eigen values of the Matrix:\n",
            " [-2.22044605e-16  3.00000000e+00  0.00000000e+00]\n",
            "Printing Right eigenvectors of the Matrix:\n",
            " [[-0.81649658  0.57735027  0.        ]\n",
            " [ 0.40824829  0.57735027 -0.70710678]\n",
            " [ 0.40824829  0.57735027  0.70710678]]\n"
          ]
        }
      ]
    },
    {
      "cell_type": "code",
      "source": [],
      "metadata": {
        "id": "rdnAv6jSKqMA"
      },
      "execution_count": null,
      "outputs": []
    }
  ]
}