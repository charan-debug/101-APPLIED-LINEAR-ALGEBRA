{
  "nbformat": 4,
  "nbformat_minor": 0,
  "metadata": {
    "colab": {
      "provenance": [],
      "authorship_tag": "ABX9TyP6DPFB89jRqVbg0RtSRi7a",
      "include_colab_link": true
    },
    "kernelspec": {
      "name": "python3",
      "display_name": "Python 3"
    },
    "language_info": {
      "name": "python"
    }
  },
  "cells": [
    {
      "cell_type": "markdown",
      "metadata": {
        "id": "view-in-github",
        "colab_type": "text"
      },
      "source": [
        "<a href=\"https://colab.research.google.com/github/charan-debug/101-APPLIED-LINEAR-ALGEBRA/blob/main/Gaussian_Elimination.ipynb\" target=\"_parent\"><img src=\"https://colab.research.google.com/assets/colab-badge.svg\" alt=\"Open In Colab\"/></a>"
      ]
    },
    {
      "cell_type": "code",
      "source": [
        "def gaussian_elimination(matrix):\n",
        "    size = len(matrix)\n",
        "\n",
        "    for i in range(size):\n",
        "        pivot = matrix[i][i]\n",
        "        pivot_row = i\n",
        "\n",
        "        # Check if the pivot element is zero\n",
        "        if pivot == 0:\n",
        "            # Find a non-zero pivot below this row and swap rows\n",
        "            for x in range(i + 1, size):\n",
        "                if matrix[x][i] != 0:\n",
        "                    for j in range(size):\n",
        "                        matrix[i][j], matrix[x][j] = matrix[x][j], matrix[i][j]\n",
        "                    break\n",
        "\n",
        "        for j in range(i + 1, size):\n",
        "            factor = matrix[j][i] / matrix[i][i]\n",
        "            for k in range(i, size):\n",
        "                matrix[j][k] -= factor * matrix[i][k]\n",
        "\n",
        "    x = [0 for _ in range(size)]\n",
        "    for i in range(size - 1, -1, -1):\n",
        "        for j in range(i + 1, size):\n",
        "            x[i] -= matrix[i][j] * x[j]\n",
        "        x[i] /= matrix[i][i]\n",
        "\n",
        "    return matrix, x\n",
        "\n",
        "def main():\n",
        "    matrix = []\n",
        "    size = int(input(\"Please enter the size of the matrix: \"))\n",
        "\n",
        "    for i in range(size):\n",
        "        m = list(map(int, input(f\"Enter the {i + 1} row elements separated by spaces: \").split()))\n",
        "        if len(m) != size:\n",
        "            print(\"ERROR: Each row should have exactly\", size, \"elements.\")\n",
        "            exit(1)\n",
        "        matrix.append(m)\n",
        "\n",
        "    print(\"\\nGiven Matrix of equations:\")\n",
        "    for row in matrix:\n",
        "        print(row)\n",
        "\n",
        "    matrix, x = gaussian_elimination(matrix)\n",
        "\n",
        "    print(\"\\nMatrix after row-echelon form:\")\n",
        "    for row in matrix:\n",
        "        print(row)\n",
        "\n",
        "    print(\"\\nSolution of the given equations:\")\n",
        "    for i in range(size):\n",
        "        print(f'x{i + 1} = {x[i]:.2f}')\n",
        "\n",
        "if __name__ == \"__main__\":\n",
        "    main()\n"
      ],
      "metadata": {
        "colab": {
          "base_uri": "https://localhost:8080/"
        },
        "id": "4IGevb75Za2L",
        "outputId": "9234259d-9001-452a-df06-e9f5f14fce2c"
      },
      "execution_count": 12,
      "outputs": [
        {
          "output_type": "stream",
          "name": "stdout",
          "text": [
            "Please enter the size of the matrix: 2\n",
            "Enter the 1 row elements separated by spaces: 1 0\n",
            "Enter the 2 row elements separated by spaces: 2 2\n",
            "\n",
            "Given Matrix of equations:\n",
            "[1, 0]\n",
            "[2, 2]\n",
            "\n",
            "Matrix after row-echelon form:\n",
            "[1, 0]\n",
            "[0.0, 2.0]\n",
            "\n",
            "Solution of the given equations:\n",
            "x1 = 0.00\n",
            "x2 = 0.00\n"
          ]
        }
      ]
    }
  ]
}