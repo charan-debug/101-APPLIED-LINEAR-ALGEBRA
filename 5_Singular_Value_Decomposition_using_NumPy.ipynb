{
  "nbformat": 4,
  "nbformat_minor": 0,
  "metadata": {
    "colab": {
      "provenance": [],
      "authorship_tag": "ABX9TyOP73qtE1mYlBeTHeeuUv2q",
      "include_colab_link": true
    },
    "kernelspec": {
      "name": "python3",
      "display_name": "Python 3"
    },
    "language_info": {
      "name": "python"
    }
  },
  "cells": [
    {
      "cell_type": "markdown",
      "metadata": {
        "id": "view-in-github",
        "colab_type": "text"
      },
      "source": [
        "<a href=\"https://colab.research.google.com/github/charan-debug/101-APPLIED-LINEAR-ALGEBRA/blob/main/5_Singular_Value_Decomposition_using_NumPy.ipynb\" target=\"_parent\"><img src=\"https://colab.research.google.com/assets/colab-badge.svg\" alt=\"Open In Colab\"/></a>"
      ]
    },
    {
      "cell_type": "markdown",
      "source": [
        "# Singular Value Decomposition using NumPy"
      ],
      "metadata": {
        "id": "9HCzAosHSUSt"
      }
    },
    {
      "cell_type": "markdown",
      "source": [
        "***np.linalg.svd*** decomposes a given matrix A into three matrices U, S, and VT, such that A can be reconstructed as A = U @ np.diag(S) @ VT.\n",
        "\n",
        "This decomposition is fundamental in various numerical algorithms and is widely used in linear algebra and data analysis.\n",
        "\n",
        "U: This is the matrix of left singular vectors. It contains the orthonormal basis vectors for the column space of the original matrix A. The columns of U are called the left singular vectors.***The order is m x m***\n",
        "\n",
        "S: This is a 1D array containing the singular values of the matrix A. The singular values are non-negative real numbers and are ordered in descending order.***The  order of the matrix is  m x n***\n",
        "\n",
        "VT: This is the transpose of the matrix of right singular vectors. It contains the orthonormal basis vectors for the row space of the original matrix A. The rows of VT are called the right singular vectors. ***The  order of the matrix is  n x n***\n",
        "\n",
        "\n",
        ""
      ],
      "metadata": {
        "id": "pFh254rRSlMg"
      }
    },
    {
      "cell_type": "code",
      "execution_count": 1,
      "metadata": {
        "colab": {
          "base_uri": "https://localhost:8080/"
        },
        "id": "9GygGHAAMpQt",
        "outputId": "cf49931b-7219-4d3a-880c-e344a2f14c56"
      },
      "outputs": [
        {
          "output_type": "stream",
          "name": "stdout",
          "text": [
            "Left singular vectors U:\n",
            "[[-0.21483724  0.88723069  0.40824829]\n",
            " [-0.52058739  0.24964395 -0.81649658]\n",
            " [-0.82633754 -0.38794278  0.40824829]]\n",
            "Singular values S:\n",
            "[1.68481034e+01 1.06836951e+00 4.41842475e-16]\n",
            "Right singular vectors V^T:\n",
            "[[-0.47967118 -0.57236779 -0.66506441]\n",
            " [-0.77669099 -0.07568647  0.62531805]\n",
            " [-0.40824829  0.81649658 -0.40824829]]\n"
          ]
        }
      ],
      "source": [
        "import numpy as np\n",
        "\n",
        "# Create a matrix A for SVD\n",
        "A = np.array([[1, 2, 3],\n",
        "              [4, 5, 6],\n",
        "              [7, 8, 9]])\n",
        "\n",
        "# Perform SVD\n",
        "U, S, VT = np.linalg.svd(A)\n",
        "\n",
        "# U is the left singular vectors of order m x m\n",
        "print(\"Left singular vectors U:\")\n",
        "print(U)\n",
        "\n",
        "# S is the singular values (in descending order) of order m x n\n",
        "print(\"Singular values S:\")\n",
        "print(S)\n",
        "\n",
        "# VT is the right singular vectors (transpose of V) of order n x n\n",
        "print(\"Right singular vectors V^T:\")\n",
        "print(VT)\n"
      ]
    },
    {
      "cell_type": "code",
      "source": [
        "import numpy as np\n",
        "\n",
        "# Input the matrix dimensions\n",
        "rows = int(input(\"Enter the number of rows: \"))\n",
        "cols = int(input(\"Enter the number of columns: \"))\n",
        "\n",
        "# Input the elements of the matrix\n",
        "print(f\"Enter the elements of the {rows}x{cols} matrix row by row (separate values by space):\")\n",
        "matrix = []\n",
        "\n",
        "for _ in range(rows):\n",
        "    row = list(map(float, input().split()))\n",
        "    if len(row) != cols:\n",
        "        print(f\"Invalid input. Please enter exactly {cols} elements for each row.\")\n",
        "        exit()\n",
        "    matrix.append(row)\n",
        "\n",
        "# Perform SVD\n",
        "A = np.array(matrix)\n",
        "U, S, VT = np.linalg.svd(A)\n",
        "\n",
        "# U is the left singular vectors of order m x m\n",
        "print(\"Left singular vectors U:\")\n",
        "print(U)\n",
        "\n",
        "# S is the singular values (in descending order) m x n\n",
        "print(\"Singular values S:\")\n",
        "print(S)\n",
        "\n",
        "# VT is the right singular vectors (transpose of V)of order n x n\n",
        "print(\"Right singular vectors V^T:\")\n",
        "print(VT)\n"
      ],
      "metadata": {
        "colab": {
          "base_uri": "https://localhost:8080/"
        },
        "id": "x8amNAzvMyya",
        "outputId": "eee24813-b4c7-4422-e683-dc467cc794ba"
      },
      "execution_count": 2,
      "outputs": [
        {
          "output_type": "stream",
          "name": "stdout",
          "text": [
            "Enter the number of rows: 2\n",
            "Enter the number of columns: 2\n",
            "Enter the elements of the 2x2 matrix row by row (separate values by space):\n",
            "1 2\n",
            "3 1\n",
            "Left singular vectors U:\n",
            "[[-0.52573111 -0.85065081]\n",
            " [-0.85065081  0.52573111]]\n",
            "Singular values S:\n",
            "[3.61803399 1.38196601]\n",
            "Right singular vectors V^T:\n",
            "[[-0.85065081 -0.52573111]\n",
            " [ 0.52573111 -0.85065081]]\n"
          ]
        }
      ]
    },
    {
      "cell_type": "code",
      "source": [],
      "metadata": {
        "id": "6gODtoS1M2Ym"
      },
      "execution_count": null,
      "outputs": []
    }
  ]
}